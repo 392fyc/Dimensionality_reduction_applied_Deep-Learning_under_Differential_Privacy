{
 "cells": [
  {
   "cell_type": "code",
   "execution_count": 2,
   "metadata": {},
   "outputs": [
    {
     "data": {
      "text/plain": [
       "'pca_flowchart.pdf'"
      ]
     },
     "execution_count": 2,
     "metadata": {},
     "output_type": "execute_result"
    }
   ],
   "source": [
    "from graphviz import Digraph\n",
    "\n",
    "# Create a new directed graph\n",
    "dot = Digraph(comment='PCA Dimensionality Reduction Flowchart')\n",
    "\n",
    "# Add nodes\n",
    "dot.node('A', 'Input Raw Data')\n",
    "dot.node('B', 'Use PCA?')\n",
    "dot.node('C', 'Reshape Image Data to 2D Matrix')\n",
    "dot.node('D', 'Apply PCA for Dimensionality Reduction')\n",
    "dot.node('E', 'Return Reduced Training and Test Data')\n",
    "dot.node('F', 'Return Original Training and Test Data')\n",
    "dot.node('G', 'Output Reduced Data')\n",
    "\n",
    "# Add edges\n",
    "dot.edge('A', 'B')\n",
    "dot.edge('B', 'C', label='Yes')\n",
    "dot.edge('C', 'D')\n",
    "dot.edge('D', 'E')\n",
    "dot.edge('B', 'F', label='No')\n",
    "dot.edge('E', 'G')\n",
    "dot.edge('F', 'G')\n",
    "\n",
    "# Render and display the graph\n",
    "dot.render('pca_flowchart', view=True)"
   ]
  },
  {
   "cell_type": "code",
   "execution_count": 3,
   "metadata": {},
   "outputs": [
    {
     "data": {
      "text/plain": [
       "'dp_noise_flowchart.pdf'"
      ]
     },
     "execution_count": 3,
     "metadata": {},
     "output_type": "execute_result"
    }
   ],
   "source": [
    "from graphviz import Digraph\n",
    "\n",
    "# Create a new directed graph\n",
    "dot = Digraph(comment='DP Noise Addition Flowchart')\n",
    "\n",
    "# Add nodes\n",
    "dot.node('A', 'Input Gradient Data')\n",
    "dot.node('B', 'Clip Gradient Data to Specified L2 Norm')\n",
    "dot.node('C', 'Initialize Differential Privacy Query')\n",
    "dot.node('D', 'Split Gradient Data into Microbatches')\n",
    "dot.node('E', 'Accumulate and Record Gradient Data for Each Microbatch')\n",
    "dot.node('F', 'Add Gaussian Noise to Accumulated Gradient Data')\n",
    "dot.node('G', 'Normalize Noisy Gradient Data')\n",
    "dot.node('H', 'Output Differentially Private Gradient Data')\n",
    "\n",
    "# Add edges\n",
    "dot.edge('A', 'B')\n",
    "dot.edge('B', 'C')\n",
    "dot.edge('C', 'D')\n",
    "dot.edge('D', 'E')\n",
    "dot.edge('E', 'F')\n",
    "dot.edge('F', 'G')\n",
    "dot.edge('G', 'H')\n",
    "\n",
    "# Render and display the graph\n",
    "dot.render('dp_noise_flowchart', view=True)"
   ]
  },
  {
   "cell_type": "code",
   "execution_count": 4,
   "metadata": {},
   "outputs": [
    {
     "data": {
      "text/plain": [
       "'nn_pca_dp_flowchart.pdf'"
      ]
     },
     "execution_count": 4,
     "metadata": {},
     "output_type": "execute_result"
    }
   ],
   "source": [
    "from graphviz import Digraph\n",
    "\n",
    "# Create a new directed graph\n",
    "dot = Digraph(comment='Neural Network with PCA and DP Noise Addition Flowchart')\n",
    "\n",
    "# Add nodes\n",
    "dot.node('A', 'Input Raw Data')\n",
    "dot.node('B', 'Use PCA?')\n",
    "dot.node('C', 'Reshape Image Data to 2D Matrix')\n",
    "dot.node('D', 'Apply PCA for Dimensionality Reduction')\n",
    "dot.node('E', 'Input Reduced Data to Neural Network')\n",
    "dot.node('F', 'Define Neural Network Model Architecture')\n",
    "dot.node('G', 'Compile Model with Loss Function and Optimizer')\n",
    "dot.node('H', 'Use DP-SGD Optimizer?')\n",
    "dot.node('I', 'Train with DP-SGD Optimizer')\n",
    "dot.node('J', 'Calculate Privacy Budget Epsilon')\n",
    "dot.node('K', 'Epsilon Reached Threshold?')\n",
    "dot.node('L', 'Stop Training')\n",
    "dot.node('M', 'Train with Regular SGD Optimizer')\n",
    "dot.node('N', 'Model Training Complete')\n",
    "dot.node('O', 'Evaluate Model Performance on Test Set')\n",
    "dot.node('P', 'Save Experiment Results to CSV File')\n",
    "\n",
    "# Add edges\n",
    "dot.edge('A', 'B')\n",
    "dot.edge('B', 'C', label='Yes')\n",
    "dot.edge('C', 'D')\n",
    "dot.edge('D', 'E')\n",
    "dot.edge('B', 'E', label='No')\n",
    "dot.edge('E', 'F')\n",
    "dot.edge('F', 'G')\n",
    "dot.edge('G', 'H')\n",
    "dot.edge('H', 'I', label='Yes')\n",
    "dot.edge('I', 'J')\n",
    "dot.edge('J', 'K')\n",
    "dot.edge('K', 'L', label='Yes')\n",
    "dot.edge('K', 'I', label='No')\n",
    "dot.edge('H', 'M', label='No')\n",
    "dot.edge('M', 'N')\n",
    "dot.edge('L', 'N')\n",
    "dot.edge('N', 'O')\n",
    "dot.edge('O', 'P')\n",
    "\n",
    "# Render and display the graph\n",
    "dot.render('nn_pca_dp_flowchart', view=True)"
   ]
  },
  {
   "cell_type": "code",
   "execution_count": 7,
   "metadata": {},
   "outputs": [
    {
     "data": {
      "text/plain": [
       "'dp_sgd_optimization_flowchart.png'"
      ]
     },
     "execution_count": 7,
     "metadata": {},
     "output_type": "execute_result"
    }
   ],
   "source": [
    "from graphviz import Digraph\n",
    "\n",
    "dot = Digraph(comment='DP-SGD Optimization Flowchart')\n",
    "dot.attr('node', fontname='MS Gothic')  # 设置节点使用的字体\n",
    "dot.attr('edge', fontname='MS Gothic')  # 设置边使用的字体\n",
    "\n",
    "# 设置节点形状\n",
    "dot.node('A', '生データの入力', shape='box')\n",
    "dot.node('H', 'DPを使うか', shape='diamond')\n",
    "dot.node('I', 'DPでトレーニング', shape='ellipse')\n",
    "dot.node('J', 'ε累計の計算', shape='ellipse')\n",
    "dot.node('M', '通常でトレーニング', shape='ellipse')\n",
    "dot.node('N', 'トレーニング完了', shape='box')\n",
    "dot.node('O', '検証精度とεを出力', shape='box')\n",
    "\n",
    "# Add edges\n",
    "dot.edge('A', 'H')\n",
    "dot.edge('H', 'I', label='はい')\n",
    "dot.edge('H', 'M', label='いいえ')\n",
    "dot.edge('I', 'J')\n",
    "dot.edge('J', 'N')\n",
    "dot.edge('M', 'N')\n",
    "dot.edge('N', 'O')\n",
    "\n",
    "# Render and display the graph\n",
    "dot.render('dp_sgd_optimization_flowchart', view=True, format='png')\n",
    "\n",
    "\n"
   ]
  },
  {
   "cell_type": "code",
   "execution_count": 9,
   "metadata": {},
   "outputs": [
    {
     "data": {
      "text/plain": [
       "'dp_sgd_optimization_with_pca_flowchart_updated.png'"
      ]
     },
     "execution_count": 9,
     "metadata": {},
     "output_type": "execute_result"
    }
   ],
   "source": [
    "from graphviz import Digraph\n",
    "\n",
    "dot = Digraph(comment='DP-SGD Optimization with PCA Flowchart')\n",
    "dot.attr('node', fontname='MS Gothic')  # 设置节点使用的字体\n",
    "dot.attr('edge', fontname='MS Gothic')  # 设置边使用的字体\n",
    "\n",
    "# Add nodes with Japanese text\n",
    "dot.node('A', '生データの入力', shape='box')\n",
    "dot.node('B', '次元削減を適用するか', shape='diamond')\n",
    "dot.node('C', '指定された次元でデータを削減', shape='ellipse')\n",
    "dot.node('D', 'データ出力', shape='ellipse')\n",
    "dot.node('H', 'DPを使うか', shape='diamond')\n",
    "dot.node('I', 'εを指定、DPでトレーニング', shape='ellipse')\n",
    "dot.node('J', 'ε追跡', shape='ellipse')\n",
    "dot.node('K', 'εがしきい値に到達したか', shape='diamond')\n",
    "dot.node('L', '到達したepoch出力', shape='ellipse')\n",
    "dot.node('M', '通常でトレーニング', shape='ellipse')\n",
    "dot.node('N', 'トレーニング完了', shape='box')\n",
    "dot.node('O', '検証精度とεを出力', shape='box')\n",
    "\n",
    "# Add edges\n",
    "dot.edge('A', 'B')\n",
    "dot.edge('B', 'C', label='はい')\n",
    "dot.edge('B', 'D', label='いいえ')\n",
    "dot.edge('C', 'D')\n",
    "dot.edge('D', 'H')\n",
    "dot.edge('H', 'I', label='はい')\n",
    "dot.edge('H', 'M', label='いいえ')\n",
    "dot.edge('I', 'J')\n",
    "dot.edge('J', 'K')\n",
    "dot.edge('K', 'L', label='はい')\n",
    "dot.edge('K', 'N', label='いいえ')\n",
    "dot.edge('M', 'N')\n",
    "dot.edge('N', 'O')\n",
    "dot.edge('L', 'O', style='dotted')  # 到達したepochから検証精度とεを出力までの点線\n",
    "\n",
    "# Render and display the graph\n",
    "dot.render('dp_sgd_optimization_with_pca_flowchart_updated', view=True, format='png')\n",
    "\n"
   ]
  }
 ],
 "metadata": {
  "kernelspec": {
   "display_name": "Python 3",
   "language": "python",
   "name": "python3"
  },
  "language_info": {
   "codemirror_mode": {
    "name": "ipython",
    "version": 3
   },
   "file_extension": ".py",
   "mimetype": "text/x-python",
   "name": "python",
   "nbconvert_exporter": "python",
   "pygments_lexer": "ipython3",
   "version": "3.12.1"
  }
 },
 "nbformat": 4,
 "nbformat_minor": 2
}
