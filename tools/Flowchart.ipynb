{
 "cells": [
  {
   "cell_type": "code",
   "execution_count": 1,
   "metadata": {},
   "outputs": [
    {
     "name": "stdout",
     "output_type": "stream",
     "text": [
      "Requirement already satisfied: graphviz in c:\\python312\\lib\\site-packages (0.20.3)\n",
      "Note: you may need to restart the kernel to use updated packages.\n"
     ]
    },
    {
     "name": "stderr",
     "output_type": "stream",
     "text": [
      "\n",
      "[notice] A new release of pip is available: 23.3.2 -> 24.0\n",
      "[notice] To update, run: python.exe -m pip install --upgrade pip\n"
     ]
    }
   ],
   "source": [
    "pip install graphviz"
   ]
  },
  {
   "cell_type": "code",
   "execution_count": 5,
   "metadata": {},
   "outputs": [
    {
     "data": {
      "text/plain": [
       "'pca_flowchart.pdf'"
      ]
     },
     "execution_count": 5,
     "metadata": {},
     "output_type": "execute_result"
    }
   ],
   "source": [
    "from graphviz import Digraph\n",
    "\n",
    "# Create a new directed graph\n",
    "dot = Digraph(comment='PCA Dimensionality Reduction Flowchart')\n",
    "\n",
    "# Add nodes\n",
    "dot.node('A', 'Input Raw Data', shape='parallelogram')\n",
    "dot.node('B', 'Use PCA?', shape='diamond')\n",
    "dot.node('C', 'Reshape Image Data to 2D Matrix', shape='box')\n",
    "dot.node('D', 'Apply PCA for Dimensionality Reduction', shape='box')\n",
    "dot.node('E', 'Return Reduced Training and Test Data', shape='box')\n",
    "dot.node('F', 'Return Original Training and Test Data', shape='box')\n",
    "dot.node('G', 'Output Reduced Data', shape='parallelogram')\n",
    "\n",
    "# Add edges\n",
    "dot.edge('A', 'B')\n",
    "dot.edge('B', 'C', label='Yes')\n",
    "dot.edge('C', 'D')\n",
    "dot.edge('D', 'E')\n",
    "dot.edge('B', 'F', label='No')\n",
    "dot.edge('E', 'G')\n",
    "dot.edge('F', 'G')\n",
    "\n",
    "# Render and display the graph\n",
    "dot.render('pca_flowchart', view=True)"
   ]
  },
  {
   "cell_type": "code",
   "execution_count": 7,
   "metadata": {},
   "outputs": [
    {
     "data": {
      "text/plain": [
       "'dp_noise_flowchart.pdf'"
      ]
     },
     "execution_count": 7,
     "metadata": {},
     "output_type": "execute_result"
    }
   ],
   "source": [
    "from graphviz import Digraph\n",
    "\n",
    "# Create a new directed graph\n",
    "dot = Digraph(comment='DP Noise Addition Flowchart')\n",
    "\n",
    "# Add nodes\n",
    "dot.node('A', 'Input Gradient Data', shape='parallelogram')\n",
    "dot.node('B', 'Clip Gradient Data to Specified L2 Norm', shape='box')\n",
    "dot.node('C', 'Initialize Differential Privacy Query', shape='box')\n",
    "dot.node('D', 'Split Mini-batch into Microbatches', shape='box')\n",
    "dot.node('E', 'For Each Microbatch:', shape='box')\n",
    "dot.node('F', 'Compute Microbatch Loss', shape='box')\n",
    "dot.node('G', 'Compute Gradients', shape='box')\n",
    "dot.node('H', 'Accumulate and Record Gradients', shape='box')\n",
    "dot.node('I', 'Add Gaussian Noise to Accumulated Gradients', shape='box')\n",
    "dot.node('J', 'Normalize Noisy Gradients', shape='box')\n",
    "dot.node('K', 'Output Differentially Private Gradients', shape='parallelogram')\n",
    "dot.node('L', 'Update Model Parameters', shape='box')\n",
    "dot.node('M', 'Compute Privacy Budget (Epsilon) for Each Epoch', shape='box')\n",
    "\n",
    "# Add edges\n",
    "dot.edge('A', 'B')\n",
    "dot.edge('B', 'C')\n",
    "dot.edge('C', 'D')\n",
    "dot.edge('D', 'E')\n",
    "dot.edge('E', 'F')\n",
    "dot.edge('F', 'G')\n",
    "dot.edge('G', 'H')\n",
    "dot.edge('H', 'E', label='Repeat for Each Microbatch')\n",
    "dot.edge('E', 'I', label='After All Microbatches')\n",
    "dot.edge('I', 'J')\n",
    "dot.edge('J', 'K')\n",
    "dot.edge('K', 'L')\n",
    "dot.edge('L', 'M')\n",
    "\n",
    "# Render and display the graph\n",
    "dot.render('dp_noise_flowchart', view=True)"
   ]
  },
  {
   "cell_type": "code",
   "execution_count": 3,
   "metadata": {},
   "outputs": [
    {
     "data": {
      "text/plain": [
       "'nn_pca_dp_flowchart.pdf'"
      ]
     },
     "execution_count": 3,
     "metadata": {},
     "output_type": "execute_result"
    }
   ],
   "source": [
    "from graphviz import Digraph\n",
    "\n",
    "# Create a new directed graph\n",
    "dot = Digraph(comment='Neural Network with PCA and DP Noise Addition Flowchart')\n",
    "\n",
    "# Add nodes\n",
    "dot.node('A', 'Input Raw Data', shape='parallelogram')\n",
    "dot.node('B', 'Use PCA?', shape='diamond')\n",
    "dot.node('C', 'Reshape Image Data to 2D Matrix', shape='box')\n",
    "dot.node('D', 'Apply PCA for Dimensionality Reduction', shape='box')\n",
    "dot.node('E', 'Input Reduced Data to Neural Network', shape='box')\n",
    "dot.node('F', 'Define Neural Network Model Architecture', shape='box')\n",
    "dot.node('G', 'Compile Model with Loss Function and Optimizer', shape='box')\n",
    "dot.node('H', 'Use DP-SGD Optimizer?', shape='diamond')\n",
    "dot.node('I', 'Train with DP-SGD Optimizer', shape='box')\n",
    "dot.node('J', 'Calculate Privacy Budget Epsilon', shape='box')\n",
    "dot.node('K', 'Epsilon Reached Threshold?', shape='diamond')\n",
    "dot.node('L', 'Stop Training', shape='box')\n",
    "dot.node('M', 'Train with Regular SGD Optimizer', shape='box')\n",
    "dot.node('N', 'Model Training Complete', shape='box')\n",
    "dot.node('O', 'Evaluate Model Performance on Test Set', shape='box')\n",
    "dot.node('P', 'Save Experiment Results to CSV File', shape='box')\n",
    "\n",
    "# Add edges\n",
    "dot.edge('A', 'B')\n",
    "dot.edge('B', 'C', label='Yes')\n",
    "dot.edge('C', 'D')\n",
    "dot.edge('D', 'E')\n",
    "dot.edge('B', 'E', label='No')\n",
    "dot.edge('E', 'F')\n",
    "dot.edge('F', 'G')\n",
    "dot.edge('G', 'H')\n",
    "dot.edge('H', 'I', label='Yes')\n",
    "dot.edge('I', 'J')\n",
    "dot.edge('J', 'K')\n",
    "dot.edge('K', 'L', label='Yes')\n",
    "dot.edge('K', 'I', label='No')\n",
    "dot.edge('H', 'M', label='No')\n",
    "dot.edge('M', 'N')\n",
    "dot.edge('L', 'N')\n",
    "dot.edge('N', 'O')\n",
    "dot.edge('O', 'P')\n",
    "\n",
    "# Render and display the graph\n",
    "dot.render('nn_pca_dp_flowchart', view=True)"
   ]
  }
 ],
 "metadata": {
  "kernelspec": {
   "display_name": "Python 3",
   "language": "python",
   "name": "python3"
  },
  "language_info": {
   "codemirror_mode": {
    "name": "ipython",
    "version": 3
   },
   "file_extension": ".py",
   "mimetype": "text/x-python",
   "name": "python",
   "nbconvert_exporter": "python",
   "pygments_lexer": "ipython3",
   "version": "3.12.1"
  }
 },
 "nbformat": 4,
 "nbformat_minor": 2
}
